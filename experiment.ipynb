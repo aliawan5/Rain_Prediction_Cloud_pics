{
 "cells": [
  {
   "cell_type": "code",
   "execution_count": 1,
   "metadata": {},
   "outputs": [],
   "source": [
    "import numpy as np \n",
    "import cv2 as cv\n",
    "from PIL import Image\n",
    "import os"
   ]
  },
  {
   "cell_type": "code",
   "execution_count": 2,
   "metadata": {},
   "outputs": [],
   "source": [
    "images = []\n",
    "labels = []"
   ]
  },
  {
   "cell_type": "code",
   "execution_count": 3,
   "metadata": {},
   "outputs": [],
   "source": [
    "data_path = r\"C:\\Users\\FINE\\Desktop\\Rain_prediction_using_cloud_images\\Data\""
   ]
  },
  {
   "cell_type": "code",
   "execution_count": 4,
   "metadata": {},
   "outputs": [],
   "source": [
    "for label_dir in os.listdir(data_path):\n",
    "    label = os.path.join(data_path, label_dir)\n",
    "    if os.path.isdir (label):\n",
    "        for image_dir in os.listdir(label):\n",
    "            image_file = os.path.join(label, image_dir)\n",
    "            image = Image.open(image_file)\n",
    "            images.append(image)\n",
    "            labels.append(label_dir)"
   ]
  },
  {
   "cell_type": "code",
   "execution_count": 5,
   "metadata": {},
   "outputs": [
    {
     "name": "stdout",
     "output_type": "stream",
     "text": [
      "['ClearWeather', 'ClearWeather', 'ClearWeather', 'ClearWeather', 'ClearWeather', 'ClearWeather', 'ClearWeather', 'ClearWeather', 'ClearWeather', 'ClearWeather', 'ClearWeather', 'ClearWeather', 'ClearWeather', 'ClearWeather', 'ClearWeather', 'ClearWeather', 'ClearWeather', 'ClearWeather', 'ClearWeather', 'ClearWeather', 'ClearWeather', 'ClearWeather', 'ClearWeather', 'ClearWeather', 'ClearWeather', 'ClearWeather', 'ClearWeather', 'ClearWeather', 'ClearWeather', 'ClearWeather', 'ClearWeather', 'ClearWeather', 'ClearWeather', 'ClearWeather', 'ClearWeather', 'ClearWeather', 'ClearWeather', 'ClearWeather', 'ClearWeather', 'ClearWeather', 'ClearWeather', 'ClearWeather', 'ClearWeather', 'ClearWeather', 'ClearWeather', 'ClearWeather', 'ClearWeather', 'ClearWeather', 'ClearWeather', 'ClearWeather', 'ClearWeather', 'ClearWeather', 'ClearWeather', 'ClearWeather', 'ClearWeather', 'ClearWeather', 'ClearWeather', 'ClearWeather', 'ClearWeather', 'ClearWeather', 'ClearWeather', 'ClearWeather', 'ClearWeather', 'ClearWeather', 'ClearWeather', 'ClearWeather', 'ClearWeather', 'ClearWeather', 'ClearWeather', 'ClearWeather', 'ClearWeather', 'ClearWeather', 'ClearWeather', 'ClearWeather', 'ClearWeather', 'ClearWeather', 'ClearWeather', 'ClearWeather', 'ClearWeather', 'ClearWeather', 'ClearWeather', 'ClearWeather', 'ClearWeather', 'ClearWeather', 'ClearWeather', 'ClearWeather', 'ClearWeather', 'ClearWeather', 'ClearWeather', 'ClearWeather', 'ClearWeather', 'ClearWeather', 'ClearWeather', 'ClearWeather', 'ClearWeather', 'ClearWeather', 'ClearWeather', 'ClearWeather', 'ClearWeather', 'ClearWeather', 'ClearWeather', 'ClearWeather', 'ClearWeather', 'ClearWeather', 'ClearWeather', 'ClearWeather', 'ClearWeather', 'ClearWeather', 'ClearWeather', 'ClearWeather', 'ClearWeather', 'ClearWeather', 'ClearWeather', 'ClearWeather', 'ClearWeather', 'ClearWeather', 'ClearWeather', 'ClearWeather', 'ClearWeather', 'ClearWeather', 'ClearWeather', 'ClearWeather', 'ClearWeather', 'ClearWeather', 'ClearWeather', 'ClearWeather', 'ClearWeather', 'ClearWeather', 'ClearWeather', 'ClearWeather', 'ClearWeather', 'ClearWeather', 'ClearWeather', 'ClearWeather', 'ClearWeather', 'ClearWeather', 'ClearWeather', 'ClearWeather', 'ClearWeather', 'ClearWeather', 'ClearWeather', 'ClearWeather', 'ClearWeather', 'ClearWeather', 'ClearWeather', 'ClearWeather', 'ClearWeather', 'ClearWeather', 'ClearWeather', 'ClearWeather', 'ClearWeather', 'ClearWeather', 'ClearWeather', 'ClearWeather', 'ClearWeather', 'ClearWeather', 'ClearWeather', 'ClearWeather', 'ClearWeather', 'ClearWeather', 'ClearWeather', 'ClearWeather', 'ClearWeather', 'ClearWeather', 'ClearWeather', 'ClearWeather', 'ClearWeather', 'ClearWeather', 'ClearWeather', 'ClearWeather', 'ClearWeather', 'ClearWeather', 'ClearWeather', 'ClearWeather', 'ClearWeather', 'ClearWeather', 'ClearWeather', 'ClearWeather', 'ClearWeather', 'ClearWeather', 'ClearWeather', 'ClearWeather', 'ClearWeather', 'ClearWeather', 'ClearWeather', 'ClearWeather', 'ClearWeather', 'ClearWeather', 'ClearWeather', 'ClearWeather', 'ClearWeather', 'ClearWeather', 'ClearWeather', 'ClearWeather', 'ClearWeather', 'ClearWeather', 'ClearWeather', 'ClearWeather', 'ClearWeather', 'ClearWeather', 'ClearWeather', 'ClearWeather', 'ClearWeather', 'ClearWeather', 'ClearWeather', 'ClearWeather', 'ClearWeather', 'ClearWeather', 'ClearWeather', 'ClearWeather', 'ClearWeather', 'ClearWeather', 'ClearWeather', 'ClearWeather', 'ClearWeather', 'ClearWeather', 'ClearWeather', 'ClearWeather', 'ClearWeather', 'ClearWeather', 'ClearWeather', 'ClearWeather', 'ClearWeather', 'ClearWeather', 'ClearWeather', 'ClearWeather', 'ClearWeather', 'ClearWeather', 'ClearWeather', 'ClearWeather', 'ClearWeather', 'ClearWeather', 'ClearWeather', 'ClearWeather', 'ClearWeather', 'ClearWeather', 'ClearWeather', 'ClearWeather', 'ClearWeather', 'ClearWeather', 'ClearWeather', 'ClearWeather', 'ClearWeather', 'ClearWeather', 'ClearWeather', 'ClearWeather', 'ClearWeather', 'ClearWeather', 'ClearWeather', 'ClearWeather', 'ClearWeather', 'RainyWeather', 'RainyWeather', 'RainyWeather', 'RainyWeather', 'RainyWeather', 'RainyWeather', 'RainyWeather', 'RainyWeather', 'RainyWeather', 'RainyWeather', 'RainyWeather', 'RainyWeather', 'RainyWeather', 'RainyWeather', 'RainyWeather', 'RainyWeather', 'RainyWeather', 'RainyWeather', 'RainyWeather', 'RainyWeather', 'RainyWeather', 'RainyWeather', 'RainyWeather', 'RainyWeather', 'RainyWeather', 'RainyWeather', 'RainyWeather', 'RainyWeather', 'RainyWeather', 'RainyWeather', 'RainyWeather', 'RainyWeather', 'RainyWeather', 'RainyWeather', 'RainyWeather', 'RainyWeather', 'RainyWeather', 'RainyWeather', 'RainyWeather', 'RainyWeather', 'RainyWeather', 'RainyWeather', 'RainyWeather', 'RainyWeather', 'RainyWeather', 'RainyWeather', 'RainyWeather', 'RainyWeather', 'RainyWeather', 'RainyWeather', 'RainyWeather', 'RainyWeather', 'RainyWeather', 'RainyWeather', 'RainyWeather', 'RainyWeather', 'RainyWeather', 'RainyWeather', 'RainyWeather', 'RainyWeather', 'RainyWeather', 'RainyWeather', 'RainyWeather', 'RainyWeather', 'RainyWeather', 'RainyWeather', 'RainyWeather', 'RainyWeather', 'RainyWeather', 'RainyWeather', 'RainyWeather', 'RainyWeather', 'RainyWeather', 'RainyWeather', 'RainyWeather', 'RainyWeather', 'RainyWeather', 'RainyWeather', 'RainyWeather', 'RainyWeather', 'RainyWeather', 'RainyWeather', 'RainyWeather', 'RainyWeather', 'RainyWeather', 'RainyWeather', 'RainyWeather', 'RainyWeather', 'RainyWeather', 'RainyWeather', 'RainyWeather', 'RainyWeather', 'RainyWeather', 'RainyWeather', 'RainyWeather', 'RainyWeather', 'RainyWeather', 'RainyWeather', 'RainyWeather', 'RainyWeather', 'RainyWeather', 'RainyWeather', 'RainyWeather', 'RainyWeather', 'RainyWeather', 'RainyWeather', 'RainyWeather', 'RainyWeather', 'RainyWeather', 'RainyWeather', 'RainyWeather', 'RainyWeather', 'RainyWeather', 'RainyWeather', 'RainyWeather', 'RainyWeather', 'RainyWeather', 'RainyWeather', 'RainyWeather', 'RainyWeather', 'RainyWeather', 'RainyWeather', 'RainyWeather', 'RainyWeather', 'RainyWeather', 'RainyWeather', 'RainyWeather', 'RainyWeather', 'RainyWeather', 'RainyWeather', 'RainyWeather', 'RainyWeather', 'RainyWeather', 'RainyWeather', 'RainyWeather', 'RainyWeather', 'RainyWeather', 'RainyWeather', 'RainyWeather', 'RainyWeather', 'RainyWeather', 'RainyWeather', 'RainyWeather', 'RainyWeather', 'RainyWeather', 'RainyWeather', 'RainyWeather', 'RainyWeather', 'RainyWeather', 'RainyWeather', 'RainyWeather', 'RainyWeather', 'RainyWeather', 'RainyWeather', 'RainyWeather', 'RainyWeather', 'RainyWeather', 'RainyWeather', 'RainyWeather', 'RainyWeather', 'RainyWeather', 'RainyWeather', 'RainyWeather', 'RainyWeather', 'RainyWeather', 'RainyWeather', 'RainyWeather', 'RainyWeather', 'RainyWeather', 'RainyWeather', 'RainyWeather', 'RainyWeather', 'RainyWeather', 'RainyWeather', 'RainyWeather', 'RainyWeather', 'RainyWeather', 'RainyWeather', 'RainyWeather', 'RainyWeather', 'RainyWeather', 'RainyWeather', 'RainyWeather', 'RainyWeather', 'RainyWeather', 'RainyWeather', 'RainyWeather', 'RainyWeather', 'RainyWeather', 'RainyWeather', 'RainyWeather', 'RainyWeather', 'RainyWeather', 'RainyWeather', 'RainyWeather', 'RainyWeather', 'RainyWeather', 'RainyWeather', 'RainyWeather', 'RainyWeather', 'RainyWeather', 'RainyWeather', 'RainyWeather', 'RainyWeather', 'RainyWeather', 'RainyWeather', 'RainyWeather', 'RainyWeather', 'RainyWeather', 'RainyWeather', 'RainyWeather', 'RainyWeather', 'RainyWeather', 'RainyWeather', 'RainyWeather', 'RainyWeather', 'RainyWeather', 'RainyWeather', 'RainyWeather', 'RainyWeather', 'RainyWeather', 'RainyWeather', 'RainyWeather', 'RainyWeather', 'RainyWeather', 'RainyWeather', 'RainyWeather', 'RainyWeather', 'RainyWeather', 'RainyWeather', 'RainyWeather', 'RainyWeather']\n"
     ]
    }
   ],
   "source": [
    "print(labels)"
   ]
  },
  {
   "cell_type": "code",
   "execution_count": 9,
   "metadata": {},
   "outputs": [
    {
     "ename": "error",
     "evalue": "OpenCV(4.10.0) :-1: error: (-5:Bad argument) in function 'imshow'\n> Overload resolution failed:\n>  - mat is not a numpy array, neither a scalar\n>  - Expected Ptr<cv::cuda::GpuMat> for argument 'mat'\n>  - Expected Ptr<cv::UMat> for argument 'mat'\n",
     "output_type": "error",
     "traceback": [
      "\u001b[1;31m---------------------------------------------------------------------------\u001b[0m",
      "\u001b[1;31merror\u001b[0m                                     Traceback (most recent call last)",
      "Cell \u001b[1;32mIn[9], line 2\u001b[0m\n\u001b[0;32m      1\u001b[0m \u001b[38;5;28;01mfor\u001b[39;00m image \u001b[38;5;129;01min\u001b[39;00m images:\n\u001b[1;32m----> 2\u001b[0m     \u001b[43mcv\u001b[49m\u001b[38;5;241;43m.\u001b[39;49m\u001b[43mimshow\u001b[49m\u001b[43m(\u001b[49m\u001b[38;5;124;43m'\u001b[39;49m\u001b[38;5;124;43mimage\u001b[39;49m\u001b[38;5;124;43m'\u001b[39;49m\u001b[43m,\u001b[49m\u001b[43m \u001b[49m\u001b[43mimage\u001b[49m\u001b[43m)\u001b[49m\n\u001b[0;32m      4\u001b[0m cv\u001b[38;5;241m.\u001b[39mwaitKey(\u001b[38;5;241m0\u001b[39m)\n",
      "\u001b[1;31merror\u001b[0m: OpenCV(4.10.0) :-1: error: (-5:Bad argument) in function 'imshow'\n> Overload resolution failed:\n>  - mat is not a numpy array, neither a scalar\n>  - Expected Ptr<cv::cuda::GpuMat> for argument 'mat'\n>  - Expected Ptr<cv::UMat> for argument 'mat'\n"
     ]
    }
   ],
   "source": [
    "for image in images:\n",
    "    cv.imshow('image', image)\n",
    "\n",
    "cv.waitKey(0)"
   ]
  }
 ],
 "metadata": {
  "kernelspec": {
   "display_name": "Python 3",
   "language": "python",
   "name": "python3"
  },
  "language_info": {
   "codemirror_mode": {
    "name": "ipython",
    "version": 3
   },
   "file_extension": ".py",
   "mimetype": "text/x-python",
   "name": "python",
   "nbconvert_exporter": "python",
   "pygments_lexer": "ipython3",
   "version": "3.11.4"
  }
 },
 "nbformat": 4,
 "nbformat_minor": 2
}
